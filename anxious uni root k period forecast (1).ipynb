{
 "cells": [
  {
   "cell_type": "code",
   "execution_count": 1,
   "metadata": {},
   "outputs": [],
   "source": [
    "import pandas as pd\n",
    "import numpy as np\n",
    "import math\n",
    "import matplotlib.pyplot as plt \n",
    "import statsmodels.api as sm"
   ]
  },
  {
   "cell_type": "code",
   "execution_count": 2,
   "metadata": {},
   "outputs": [],
   "source": [
    "#Read in bitcoin data\n",
    "# bitcoin_data_df = pd.read_csv('C:/Users/Jon/Downloads/bitcoinity_data.csv')\n",
    "\n",
    "gdp = pd.read_csv('C:/Users/Jon/Downloads/GDP (1).csv')"
   ]
  },
  {
   "cell_type": "code",
   "execution_count": 3,
   "metadata": {},
   "outputs": [],
   "source": [
    "gdp['log_GDP'] = np.log(gdp['GDP'])\n",
    "\n",
    "data = gdp[['DATE','log_GDP']].copy()\n",
    "data.columns = ['DATE','Y']"
   ]
  },
  {
   "cell_type": "code",
   "execution_count": 4,
   "metadata": {},
   "outputs": [],
   "source": [
    "def generate_barrier(data, inc):\n",
    "    hit_df = data.copy()\n",
    "    \n",
    "    P = [data.loc[0,'Y']]\n",
    "    N = [0]\n",
    "    \n",
    "    for index in data.index:\n",
    "        if index > 0:\n",
    "            last_index = index-1\n",
    "            new_p = max(data.loc[index,'Y'], P[last_index] + inc )\n",
    "            new_n = 1*(new_p == data.loc[index,'Y'])\n",
    "            \n",
    "            P.append(new_p)\n",
    "            N.append(new_n)\n",
    "    \n",
    "    hit_df['P'] = P\n",
    "    hit_df['hit'] = N\n",
    "    hit_df['dist'] = hit_df['P'] - hit_df['Y']\n",
    "    return hit_df"
   ]
  },
  {
   "cell_type": "code",
   "execution_count": 5,
   "metadata": {},
   "outputs": [],
   "source": [
    "delta_mean = data['Y'].diff(1).mean()\n",
    "hit_df = generate_barrier(data,delta_mean)"
   ]
  },
  {
   "cell_type": "code",
   "execution_count": 6,
   "metadata": {},
   "outputs": [
    {
     "data": {
      "text/html": [
       "<div>\n",
       "<style scoped>\n",
       "    .dataframe tbody tr th:only-of-type {\n",
       "        vertical-align: middle;\n",
       "    }\n",
       "\n",
       "    .dataframe tbody tr th {\n",
       "        vertical-align: top;\n",
       "    }\n",
       "\n",
       "    .dataframe thead th {\n",
       "        text-align: right;\n",
       "    }\n",
       "</style>\n",
       "<table border=\"1\" class=\"dataframe\">\n",
       "  <thead>\n",
       "    <tr style=\"text-align: right;\">\n",
       "      <th></th>\n",
       "      <th>const</th>\n",
       "      <th>slope</th>\n",
       "      <th>r_squared</th>\n",
       "    </tr>\n",
       "    <tr>\n",
       "      <th>k</th>\n",
       "      <th></th>\n",
       "      <th></th>\n",
       "      <th></th>\n",
       "    </tr>\n",
       "  </thead>\n",
       "  <tbody>\n",
       "    <tr>\n",
       "      <th>1</th>\n",
       "      <td>0.018397</td>\n",
       "      <td>-0.030520</td>\n",
       "      <td>0.101019</td>\n",
       "    </tr>\n",
       "    <tr>\n",
       "      <th>2</th>\n",
       "      <td>0.036480</td>\n",
       "      <td>-0.057559</td>\n",
       "      <td>0.117730</td>\n",
       "    </tr>\n",
       "    <tr>\n",
       "      <th>3</th>\n",
       "      <td>0.054386</td>\n",
       "      <td>-0.083101</td>\n",
       "      <td>0.124838</td>\n",
       "    </tr>\n",
       "    <tr>\n",
       "      <th>4</th>\n",
       "      <td>0.072116</td>\n",
       "      <td>-0.108061</td>\n",
       "      <td>0.134535</td>\n",
       "    </tr>\n",
       "    <tr>\n",
       "      <th>5</th>\n",
       "      <td>0.089838</td>\n",
       "      <td>-0.133608</td>\n",
       "      <td>0.146985</td>\n",
       "    </tr>\n",
       "    <tr>\n",
       "      <th>6</th>\n",
       "      <td>0.107650</td>\n",
       "      <td>-0.160848</td>\n",
       "      <td>0.164990</td>\n",
       "    </tr>\n",
       "    <tr>\n",
       "      <th>7</th>\n",
       "      <td>0.125496</td>\n",
       "      <td>-0.189072</td>\n",
       "      <td>0.183646</td>\n",
       "    </tr>\n",
       "    <tr>\n",
       "      <th>8</th>\n",
       "      <td>0.143500</td>\n",
       "      <td>-0.219094</td>\n",
       "      <td>0.202714</td>\n",
       "    </tr>\n",
       "    <tr>\n",
       "      <th>9</th>\n",
       "      <td>0.161797</td>\n",
       "      <td>-0.251783</td>\n",
       "      <td>0.222667</td>\n",
       "    </tr>\n",
       "    <tr>\n",
       "      <th>10</th>\n",
       "      <td>0.180283</td>\n",
       "      <td>-0.286077</td>\n",
       "      <td>0.240258</td>\n",
       "    </tr>\n",
       "    <tr>\n",
       "      <th>11</th>\n",
       "      <td>0.198842</td>\n",
       "      <td>-0.321641</td>\n",
       "      <td>0.254536</td>\n",
       "    </tr>\n",
       "    <tr>\n",
       "      <th>12</th>\n",
       "      <td>0.217610</td>\n",
       "      <td>-0.359404</td>\n",
       "      <td>0.268505</td>\n",
       "    </tr>\n",
       "    <tr>\n",
       "      <th>13</th>\n",
       "      <td>0.236308</td>\n",
       "      <td>-0.397837</td>\n",
       "      <td>0.280791</td>\n",
       "    </tr>\n",
       "    <tr>\n",
       "      <th>14</th>\n",
       "      <td>0.255015</td>\n",
       "      <td>-0.437829</td>\n",
       "      <td>0.292967</td>\n",
       "    </tr>\n",
       "  </tbody>\n",
       "</table>\n",
       "</div>"
      ],
      "text/plain": [
       "       const     slope  r_squared\n",
       "k                                \n",
       "1   0.018397 -0.030520   0.101019\n",
       "2   0.036480 -0.057559   0.117730\n",
       "3   0.054386 -0.083101   0.124838\n",
       "4   0.072116 -0.108061   0.134535\n",
       "5   0.089838 -0.133608   0.146985\n",
       "6   0.107650 -0.160848   0.164990\n",
       "7   0.125496 -0.189072   0.183646\n",
       "8   0.143500 -0.219094   0.202714\n",
       "9   0.161797 -0.251783   0.222667\n",
       "10  0.180283 -0.286077   0.240258\n",
       "11  0.198842 -0.321641   0.254536\n",
       "12  0.217610 -0.359404   0.268505\n",
       "13  0.236308 -0.397837   0.280791\n",
       "14  0.255015 -0.437829   0.292967"
      ]
     },
     "execution_count": 6,
     "metadata": {},
     "output_type": "execute_result"
    }
   ],
   "source": [
    "model_coef_df = pd.DataFrame(columns = ['k','const','slope','r_squared']).set_index('k')\n",
    "\n",
    "for k in range(1,15):\n",
    "    reg_df = hit_df[['dist','Y']].copy()\n",
    "    reg_df['k_delta'] = reg_df['Y'].diff(k)\n",
    "    reg_df['lagged_dist'] = reg_df['dist'].shift(k)\n",
    "    reg_df['inv_lagged_dist'] = (reg_df['lagged_dist']+1).apply(lambda s: 1/s)\n",
    "    reg_df['log_lagged_dist'] = np.log((1+reg_df['lagged_dist']))\n",
    "    \n",
    "    reg_df = reg_df.dropna()\n",
    "    \n",
    "    Y = reg_df['k_delta']\n",
    "    X = sm.add_constant(reg_df['log_lagged_dist'])\n",
    "    \n",
    "    model = sm.OLS(Y,X).fit()\n",
    "    model_coef_df.loc[k] = [model.params.values[0], model.params.values[1], model.rsquared]\n",
    "    \n",
    "model_coef_df"
   ]
  },
  {
   "cell_type": "code",
   "execution_count": 7,
   "metadata": {},
   "outputs": [],
   "source": [
    "#forecast ahead\n",
    "data_index = data.index\n",
    "last_period = max(data_index)\n",
    "k_ahead = 13\n",
    "\n",
    "ols_k_ahead_error_df = pd.DataFrame(columns = ['k','error','sq_error'])\n",
    "\n",
    "fitted_barrier = hit_df\n",
    "\n",
    "for time in [x for x in data_index if x>1 and (last_period > x+k_ahead)]:\n",
    "    forecast_df = fitted_barrier.loc[time:(time+k)].copy()\n",
    "    \n",
    "    base_y = forecast_df.loc[time,'Y']\n",
    "    base_dist = forecast_df.loc[time,'dist']\n",
    "    inv_base_dist = 1/(1+base_dist)\n",
    "    log_base_dist = np.log(1+base_dist)\n",
    "    \n",
    "    for k in range(1, k_ahead):\n",
    "        intercept = model_coef_df.loc[k,'const']\n",
    "        slope = model_coef_df.loc[k,'slope']\n",
    "        forecast_k_delta = intercept + slope * log_base_dist\n",
    "        \n",
    "        forecast_df.loc[time+k,'forecasted_y'] = base_y + forecast_k_delta\n",
    "        \n",
    "    forecast_df['error'] = forecast_df['forecasted_y'] - forecast_df['Y']\n",
    "    error_vals = forecast_df.dropna()['error'].values\n",
    "    \n",
    "    error_df = pd.DataFrame({'k':range(1,k_ahead), 'error':error_vals})\n",
    "    error_df['sq_error'] = np.square(error_df['error'])\n",
    "    \n",
    "    ols_k_ahead_error_df = ols_k_ahead_error_df.append(error_df) "
   ]
  },
  {
   "cell_type": "code",
   "execution_count": 8,
   "metadata": {},
   "outputs": [
    {
     "data": {
      "image/png": "[encoded data removed]",
      "text/plain": [
       "<Figure size 432x288 with 1 Axes>"
      ]
     },
     "metadata": {},
     "output_type": "display_data"
    }
   ],
   "source": [
    "ols_k_ahead_error_df['k'] = ols_k_ahead_error_df['k'].astype('double')\n",
    "ols_k_ahead_error_df[['k','sq_error']].plot.scatter(x='k', y='sq_error')\n",
    "plt.show()"
   ]
  },
  {
   "cell_type": "code",
   "execution_count": 9,
   "metadata": {},
   "outputs": [],
   "source": [
    "unit_root_errors = pd.DataFrame(columns = ['k','mean_error','mean_square_error']).set_index('k')\n",
    "\n",
    "for k in range(1,k_ahead):\n",
    "    mean_error = (data['Y'].diff(k).dropna() - k * delta_mean  ).mean() \n",
    "    mean_square_error = np.square( (data['Y'].diff(k).dropna() - k * delta_mean)   ).mean()\n",
    "    unit_root_errors.loc[k] = [mean_error, mean_square_error]"
   ]
  },
  {
   "cell_type": "code",
   "execution_count": 10,
   "metadata": {
    "scrolled": true
   },
   "outputs": [
    {
     "data": {
      "image/png": "[encoded data removed]",
      "text/plain": [
       "<Figure size 432x288 with 1 Axes>"
      ]
     },
     "metadata": {},
     "output_type": "display_data"
    }
   ],
   "source": [
    "comparison_df = unit_root_errors[['mean_square_error']].copy()\n",
    "comparison_df = comparison_df.sort_index()\n",
    "comparison_df['anxious_mean_sq_error'] = ols_k_ahead_error_df[['k','sq_error']].groupby(['k']).mean().values\n",
    "\n",
    "comparison_df.columns = ['unit_root','anxious_unit_root']\n",
    "comparison_df.plot()\n",
    "plt.show()"
   ]
  },
  {
   "cell_type": "code",
   "execution_count": null,
   "metadata": {},
   "outputs": [],
   "source": []
  },
  {
   "cell_type": "code",
   "execution_count": null,
   "metadata": {},
   "outputs": [],
   "source": []
  }
 ],
 "metadata": {
  "kernelspec": {
   "display_name": "Python 3",
   "language": "python",
   "name": "python3"
  },
  "language_info": {
   "codemirror_mode": {
    "name": "ipython",
    "version": 3
   },
   "file_extension": ".py",
   "mimetype": "text/x-python",
   "name": "python",
   "nbconvert_exporter": "python",
   "pygments_lexer": "ipython3",
   "version": "3.6.5"
  }
 },
 "nbformat": 4,
 "nbformat_minor": 2
}
